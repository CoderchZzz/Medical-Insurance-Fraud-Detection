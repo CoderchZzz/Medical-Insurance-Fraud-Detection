{
 "cells": [
  {
   "cell_type": "code",
   "execution_count": null,
   "id": "initial_id",
   "metadata": {
    "collapsed": true,
    "is_executing": true
   },
   "outputs": [],
   "source": [
    "import pandas as pd\n",
    "import numpy as np  # 导入numpy库\n",
    "from sklearn.ensemble import GradientBoostingClassifier\n",
    "from sklearn.model_selection import train_test_split\n",
    "\n",
    "# 假设的特征数据集\n",
    "feature_names = [\n",
    "    '一天去两家医院的天数', '月统筹金额_MAX', '药品费自费金额_SUM', '贵重药品发生金额_SUM',\n",
    "    '就诊次数_SUM', '住院天数_SUM', '医院编码_NN', '个人账户金额_SUM', '起付线标准金额_MAX',\n",
    "    '医疗救助个人按比例负担金额_SUM', '是否挂号', '出院诊断病种名称_NN', '药品在总金额中的占比', '个人支付的药品占比'\n",
    "]\n",
    "\n",
    "# 生成模拟数据\n",
    "data = pd.DataFrame(np.random.rand(1000, 14), columns=feature_names)\n",
    "# 添加一个随机的目标变量\n",
    "data['Target'] = np.random.randint(0, 2, size=1000)\n",
    "\n",
    "# 分离特征和目标变量\n",
    "X = data[feature_names]\n",
    "y = data['Target']\n",
    "\n",
    "# 分割数据集为训练集和测试集\n",
    "X_train, X_test, y_train, y_test = train_test_split(X, y, test_size=0.2, random_state=42)\n",
    "\n",
    "# 创建GBDT模型\n",
    "gbdt = GradientBoostingClassifier(n_estimators=100, random_state=42)\n",
    "\n",
    "# 训练模型\n",
    "gbdt.fit(X_train, y_train)\n",
    "\n",
    "# 获取特征重要性\n",
    "feature_importances = gbdt.feature_importances_\n",
    "\n",
    "# 创建特征重要性表格\n",
    "feature_importance_df = pd.DataFrame({\n",
    "    '特征名称': feature_names,\n",
    "    '贡献度': feature_importances\n",
    "})\n",
    "\n",
    "# 打印特征重要性表格\n",
    "print(feature_importance_df.sort_values(by='贡献度', ascending=False))\n",
    "\n",
    "# 如果需要生成3份不同的表格，可以对模型进行不同的参数调整或使用不同的随机种子\n",
    "# 例如，可以尝试不同的n_estimators参数，或者在不同的数据分割上训练模型"
   ]
  }
 ],
 "metadata": {
  "kernelspec": {
   "display_name": "Python 3",
   "language": "python",
   "name": "python3"
  },
  "language_info": {
   "codemirror_mode": {
    "name": "ipython",
    "version": 2
   },
   "file_extension": ".py",
   "mimetype": "text/x-python",
   "name": "python",
   "nbconvert_exporter": "python",
   "pygments_lexer": "ipython2",
   "version": "2.7.6"
  }
 },
 "nbformat": 4,
 "nbformat_minor": 5
}
